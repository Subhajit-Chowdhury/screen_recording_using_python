{
  "nbformat": 4,
  "nbformat_minor": 0,
  "metadata": {
    "colab": {
      "name": "screen_recorder_using_python.ipynb",
      "provenance": [],
      "collapsed_sections": [],
      "authorship_tag": "ABX9TyO9BLAAMZS1svxkc8FKF8IN",
      "include_colab_link": true
    },
    "kernelspec": {
      "name": "python3",
      "display_name": "Python 3"
    }
  },
  "cells": [
    {
      "cell_type": "markdown",
      "metadata": {
        "id": "view-in-github",
        "colab_type": "text"
      },
      "source": [
        "<a href=\"https://colab.research.google.com/github/codebyabhishek772/screen_recording_using_python/blob/master/screen_recorder_using_python.ipynb\" target=\"_parent\"><img src=\"https://colab.research.google.com/assets/colab-badge.svg\" alt=\"Open In Colab\"/></a>"
      ]
    },
    {
      "cell_type": "code",
      "metadata": {
        "id": "9cLU_E4mnCmC",
        "colab_type": "code",
        "colab": {}
      },
      "source": [
        "import cv2\n",
        "import numpy as np \n",
        "from PIL import ImageGrab"
      ],
      "execution_count": null,
      "outputs": []
    },
    {
      "cell_type": "code",
      "metadata": {
        "id": "yh84uXlRnEXA",
        "colab_type": "code",
        "colab": {}
      },
      "source": [
        "def screenRecorder():\n",
        "    fourcc = cv2.VideoWritter_fourcc(*'XVID')\n",
        "    out = cv2.VideoWritter(\"output.avi\", fourcc, (1366, 768))\n",
        "\n",
        "    while True:\n",
        "        img = ImageGrab.grab()\n",
        "        img_np = np.array(img)\n",
        "        frame = cv2.cvtcolor(img_np, cv2.COLOR_BGRGB)\n",
        "        cv2.imshow(\"Screen Recorder\", frame)\n",
        "        cv2.write(frame)\n",
        "\n",
        "        if cv2.waitKey(1) == 27:\n",
        "            break\n",
        "    \n",
        "    out.release()\n",
        "    cv2.destroyAllWindow()\n",
        "\n",
        "screenRecorder()"
      ],
      "execution_count": null,
      "outputs": []
    }
  ]
}